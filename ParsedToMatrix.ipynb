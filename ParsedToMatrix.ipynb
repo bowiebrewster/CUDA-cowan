{
 "cells": [
  {
   "cell_type": "code",
   "execution_count": 1,
   "metadata": {},
   "outputs": [
    {
     "data": {
      "text/plain": [
       "<module 'check_configs' from 'c:\\\\Users\\\\brewster\\\\Desktop\\\\CUDA Cowan  redone\\\\check_configs.py'>"
      ]
     },
     "execution_count": 1,
     "metadata": {},
     "output_type": "execute_result"
    }
   ],
   "source": [
    "import importlib\n",
    "\n",
    "import numpy as np\n",
    "import ParseING11 as parse\n",
    "import check_configs as configcheck\n",
    "\n",
    "\n",
    "importlib.reload(parse)\n",
    "importlib.reload(configcheck)"
   ]
  },
  {
   "cell_type": "code",
   "execution_count": 2,
   "metadata": {},
   "outputs": [
    {
     "name": "stdout",
     "output_type": "stream",
     "text": [
      "Sn12+ 4p64d2 4 4\n",
      "Sn12+ 4p64d2 ['5675090', '10124861', '6846241', '486792'] {'Eav': 1, 'Fk_ii': 2, 'zeta': 1, 'Fk_ij': 0, 'Gk_ij': 0}\n",
      "Sn12+ 4p54d3 8 8\n",
      "Sn12+ 4p54d3 ['66222390', '10130381', '6849531', '4760122', '488602', '10571913', '13412004', '8461844'] {'Eav': 1, 'Fk_ii': 2, 'zeta': 2, 'Fk_ij': 1, 'Gk_ij': 2}\n",
      "Sn12+ 4p64f1 7 2\n",
      "Sn12+ 4p64f1 ['70822700', '490632', '38732', '6138173', '11094824', '7137444', '5102384'] {'Eav': 1, 'Fk_ii': 0, 'zeta': 1, 'Fk_ij': 0, 'Gk_ij': 0}\n",
      "ING11_1.txt [True, True, False] \n",
      "\n",
      "Sn12+ 4p64d2 4 4\n",
      "Sn12+ 4p64d2 ['5675090', '10124861', '6846241', '486792'] {'Eav': 1, 'Fk_ii': 2, 'zeta': 1, 'Fk_ij': 0, 'Gk_ij': 0}\n",
      "Sn12+ 4p64f1 7 2\n",
      "Sn12+ 4p64f1 ['70822700', '490632', '38732', '6138173', '11094824', '7137444', '5102384'] {'Eav': 1, 'Fk_ii': 0, 'zeta': 1, 'Fk_ij': 0, 'Gk_ij': 0}\n",
      "ING11_2.txt [True, False] \n",
      "\n",
      "Sn12+ 4p64d2 4 4\n",
      "Sn12+ 4p64d2 ['5675090', '10124861', '6846241', '486792'] {'Eav': 1, 'Fk_ii': 2, 'zeta': 1, 'Fk_ij': 0, 'Gk_ij': 0}\n",
      "Sn12+ 4p54d3 8 8\n",
      "Sn12+ 4p54d3 ['66222390', '10130381', '6849531', '4760122', '488602', '10571913', '13412004', '8461844'] {'Eav': 1, 'Fk_ii': 2, 'zeta': 2, 'Fk_ij': 1, 'Gk_ij': 2}\n",
      "ING11_3.txt [True, True] \n",
      "\n",
      "Sn12+ 4p64d2 4 4\n",
      "Sn12+ 4p64d2 ['5675090', '10124861', '6846241', '486792'] {'Eav': 1, 'Fk_ii': 2, 'zeta': 1, 'Fk_ij': 0, 'Gk_ij': 0}\n",
      "Sn12+ 4p54d3 8 8\n",
      "Sn12+ 4p54d3 ['66222390', '10130381', '6849531', '4760122', '488602', '10571913', '13412004', '8461844'] {'Eav': 1, 'Fk_ii': 2, 'zeta': 2, 'Fk_ij': 1, 'Gk_ij': 2}\n",
      "Sn12+ 4p64f1 7 2\n",
      "Sn12+ 4p64f1 ['70822700', '490632', '38732', '6138173', '11094824', '7137444', '5102384'] {'Eav': 1, 'Fk_ii': 0, 'zeta': 1, 'Fk_ij': 0, 'Gk_ij': 0}\n",
      "ING11_4.txt [True, True, False] \n",
      "\n",
      "Sn13+ 4p64d1 2 2\n",
      "Sn13+ 4p64d1 ['5675090', '509612'] {'Eav': 1, 'Fk_ii': 0, 'zeta': 1, 'Fk_ij': 0, 'Gk_ij': 0}\n",
      "Sn13+ 4p54d2 8 8\n",
      "Sn13+ 4p54d2 ['66121100', '10324941', '6993351', '4892892', '511632', '10743513', '13621444', '8610784'] {'Eav': 1, 'Fk_ii': 2, 'zeta': 2, 'Fk_ij': 1, 'Gk_ij': 2}\n",
      "ING11_5.txt [True, True] \n",
      "\n",
      "Sn13+ 4p64d1 2 2\n",
      "Sn13+ 4p64d1 ['5675090', '509612'] {'Eav': 1, 'Fk_ii': 0, 'zeta': 1, 'Fk_ij': 0, 'Gk_ij': 0}\n",
      "Sn13+ 4p54d2 8 8\n",
      "Sn13+ 4p54d2 ['66121100', '8900811', '6028751', '4892892', '511632', '9261643', '11742624', '7423084'] {'Eav': 1, 'Fk_ii': 2, 'zeta': 2, 'Fk_ij': 1, 'Gk_ij': 2}\n",
      "Sn13+ 4p64f1 2 2\n",
      "Sn13+ 4p64f1 ['72112160', '43382'] {'Eav': 1, 'Fk_ii': 0, 'zeta': 1, 'Fk_ij': 0, 'Gk_ij': 0}\n",
      "ING11_6.txt [True, True, True] \n",
      "\n",
      "Sn13+ 4p64d1 2 2\n",
      "Sn13+ 4p64d1 ['5675090', '509612'] {'Eav': 1, 'Fk_ii': 0, 'zeta': 1, 'Fk_ij': 0, 'Gk_ij': 0}\n",
      "Sn13+ 4p54d2 8 8\n",
      "Sn13+ 4p54d2 ['66121100', '10324941', '6993351', '4892892', '511632', '10743513', '13621444', '8610784'] {'Eav': 1, 'Fk_ii': 2, 'zeta': 2, 'Fk_ij': 1, 'Gk_ij': 2}\n",
      "Sn13+ 4p64f1 2 2\n",
      "Sn13+ 4p64f1 ['72112160', '43382'] {'Eav': 1, 'Fk_ii': 0, 'zeta': 1, 'Fk_ij': 0, 'Gk_ij': 0}\n",
      "ING11_7.txt [True, True, True] \n",
      "\n"
     ]
    }
   ],
   "source": [
    "# aligning the scraped data with predicitions of amounts of F, G, zeta etc \n",
    "def check(filename):\n",
    "    parseddata = parse.main(filename)\n",
    "\n",
    "    alignment = []\n",
    "    # values for our \n",
    "    for key, value in parseddata[1].items():\n",
    "        configdict = configcheck.main(key.split()[1])\n",
    "        print(key, len(value), sum(configdict.values())) #Number of output values scraped, number of output values predicted\n",
    "        print(key, value, configdict)\n",
    "        alignment.append(len(value) == sum(configdict.values())) # list of bools for checked configurations\n",
    "\n",
    "    return alignment\n",
    "\n",
    "for i in range(1,8):\n",
    "    filename = f\"ING11_{i}.txt\"\n",
    "    alignment = check(filename)\n",
    "    print(filename, alignment, \"\\n\")\n"
   ]
  },
  {
   "cell_type": "markdown",
   "metadata": {},
   "source": [
    "Lets continue with cases ING11_3, 5, 6, 7 since they work properly. Now that we have "
   ]
  },
  {
   "cell_type": "code",
   "execution_count": 21,
   "metadata": {},
   "outputs": [],
   "source": [
    "from sympy.physics.wigner import wigner_3j, wigner_6j\n",
    "import re\n",
    "\n",
    "\n",
    "# Example calculations\n",
    "#print(wigner_3j(2, 2, 4, 0, 0, 0))  # Example Wigner 3j symbol\n",
    "#print(wigner_6j(1, 2, 3, 4, 5, 6))  # Example Wigner 6j symbol\n",
    "\n",
    "\n",
    "def fk(l1, l2, k):\n",
    "    if k % 2 != 0:\n",
    "        return 0\n",
    "    elif k > min(2*l1,2*l2):\n",
    "        return 0\n",
    "    L = l1 + l2\n",
    "    return (-1)**L*(2*l1 +1)*(2*l2 +1)*wigner_3j(l1, k ,l1, 0, 0, 0)*wigner_3j(l2, k ,l2, 0, 0, 0)*wigner_6j(l2, l1 ,L, l2, l1, k)\n",
    "\n",
    "def gk(l1, l2, k, S):\n",
    "    if k < abs(l1 - l2):\n",
    "        return 0\n",
    "    if k > l1 + l2:\n",
    "        return 0\n",
    "    L = l1 + l2\n",
    "    return (-1)**S**(2*l1 +1)*(2*l2 +1)*wigner_3j(l1, k ,l2, 0, 0, 0)**2 *wigner_6j(l1, l2 ,L, l1, l2, k)\n",
    "\n",
    "\n",
    "def parse_parameters(values, count_dict):\n",
    "    \"\"\"Split the flat value list into chunks based on count_dict.\"\"\"\n",
    "    parsed = {}\n",
    "    idx = 0\n",
    "    for key, count in count_dict.items():\n",
    "        parsed[key] = [int(values[idx + i]) for i in range(count)]\n",
    "        idx += count\n",
    "    return parsed\n",
    "\n",
    "def parse_subshells(subshells):\n",
    "    \"\"\"Parses subshells like '4p5' or '4d10' into (l, N) tuples.\"\"\"\n",
    "    l_map = {'s': 0, 'p': 1, 'd': 2, 'f': 3}\n",
    "    parsed = []\n",
    "    for shell in subshells:\n",
    "        match = re.match(r'(\\d)([spdf])(\\d+)', shell)\n",
    "        if not match:\n",
    "            raise ValueError(f\"Invalid subshell format: {shell}\")\n",
    "        n_str, l_str, N_str = match.groups()\n",
    "        l = l_map[l_str]\n",
    "        N = int(N_str)\n",
    "        parsed.append((l, N))\n",
    "    return parsed\n",
    "\n",
    "def valid_k_values_fk(l1, l2):\n",
    "    return list(range(0, 2 * min(2 * l1, 2 * l2) + 1, 2))\n",
    "\n",
    "def valid_k_values_gk(l1, l2):\n",
    "    start = abs(l1 - l2)\n",
    "    return list(range(start, l1 + l2 + 1, 2))"
   ]
  },
  {
   "attachments": {
    "image-2.png": {
     "image/png": "[encoded data removed]"
    },
    "image-3.png": {
     "image/png": "[encoded data removed]"
    },
    "image.png": {
     "image/png": "[encoded data removed]"
    }
   },
   "cell_type": "markdown",
   "metadata": {},
   "source": [
    "first we determine j then we compute the inner sums: \n",
    "\n",
    "\n",
    "![image.png](attachment:image.png)\n",
    "![image-2.png](attachment:image-2.png)\n",
    "![image-3.png](attachment:image-3.png)"
   ]
  },
  {
   "cell_type": "code",
   "execution_count": null,
   "metadata": {},
   "outputs": [
    {
     "name": "stdout",
     "output_type": "stream",
     "text": [
      "{'Sn13+ 4p64d1': '-1342279.829', 'Sn13+ 4p54d2': '-1341675.369', 'Sn13+ 4p64f1': '-1341615.458'}\n",
      "{'Sn13+ 4p64d1': ['5675090', '509612'], 'Sn13+ 4p54d2': ['66121100', '10324941', '6993351', '4892892', '511632', '10743513', '13621444', '8610784'], 'Sn13+ 4p64f1': ['72112160', '43382']}\n",
      "{'4p54d2 - 4p64f1': ['122.26785', '77.73975', '0.00005', '0.00005']}\n",
      "{'Sn13+ 4p64d1 Sn13+ 4p54d2': ['1.16140(', '4P//R1//', '4D)-0.998hr', '-97'], 'Sn13+ 4p64d1 Sn13+ 4p64f1': ['1.50310(', '4D//R1//', '4F)-0.984hr', '-90']}\n"
     ]
    }
   ],
   "source": [
    "import numpy as np\n",
    "from itertools import product\n",
    "\n",
    "\n",
    "# Example usage format\n",
    "parseddata = parse.main(\"ING11_7.txt\")\n",
    "for val in parseddata:\n",
    "    print(val)\n",
    "\n"
   ]
  },
  {
   "cell_type": "code",
   "execution_count": null,
   "metadata": {},
   "outputs": [],
   "source": [
    "def generate_matrices(J:list, configurations):\n",
    "\n",
    "\n",
    "\n",
    "\n",
    "\n",
    "\n",
    "\n",
    "    \n",
    "def generate_matrices(J:list, configurations):\n",
    "    \n",
    "    dim = len(J)\n",
    "    H = np.zeros((dim, dim))\n",
    "\n",
    "    for i in range(dim):\n",
    "        for j in range(dim):\n",
    "\n",
    "            cfg_i = csfs[i]\n",
    "            cfg_j = csfs[j]\n",
    "\n",
    "            # === Coulomb Terms ===\n",
    "            # Direct Slater integrals: F^k\n",
    "            fk_sum = 0\n",
    "            for orb1 in orbitals: #these are the open orbitals\n",
    "                for orb2 in orbitals:\n",
    "                    li = l_values[orb1]\n",
    "                    lj = l_values[orb2]\n",
    "                    for k in fk(li, lj):\n",
    "                        coeff = fk(li, lj)[k]  # angular part\n",
    "                        radial = Fk(li, lj)[k]  # radial part\n",
    "                        fk_sum += coeff * radial\n",
    "\n",
    "            # Exchange Slater integrals: G^k\n",
    "            gk_sum = 0\n",
    "            for orb1 in orbitals:\n",
    "                for orb2 in orbitals:\n",
    "                    li = l_values[orb1]\n",
    "                    lj = l_values[orb2]\n",
    "                    for k in gk(li, lj):\n",
    "                        coeff = gk(li, lj)[k]\n",
    "                        radial = Gk(li, lj)[k]\n",
    "                        gk_sum += coeff * radial\n",
    "\n",
    "            # === Spin-Orbit Terms ===\n",
    "            dj_sum = 0\n",
    "            for orb in orbitals:\n",
    "                dj_eta = dj(orb, J, cfg_i, cfg_j)  # matrix element of SO operator for orbital\n",
    "                dj_sum += dj_eta * zeta[orb]\n",
    "\n",
    "            # === Combine All Contributions ===\n",
    "            # Assume Eav is known for this CSF pair (diagonal only)\n",
    "            if i == j:\n",
    "                Eav = get_Eav(cfg_i)  # Assume this function exists\n",
    "            else:\n",
    "                Eav = 0  # off-diagonal parts do not get Eav\n",
    "\n",
    "            H[i, j] = Eav + fk_sum + gk_sum + dj_sum\n",
    "\n",
    "    hamiltonians[J] = H\n",
    "\n",
    "\n",
    "# Call it like this:\n",
    "matrices = generate_matrices(parseddata)\n",
    "#print(matrices)"
   ]
  }
 ],
 "metadata": {
  "kernelspec": {
   "display_name": "Python 3",
   "language": "python",
   "name": "python3"
  },
  "language_info": {
   "codemirror_mode": {
    "name": "ipython",
    "version": 3
   },
   "file_extension": ".py",
   "mimetype": "text/x-python",
   "name": "python",
   "nbconvert_exporter": "python",
   "pygments_lexer": "ipython3",
   "version": "3.11.9"
  }
 },
 "nbformat": 4,
 "nbformat_minor": 2
}
