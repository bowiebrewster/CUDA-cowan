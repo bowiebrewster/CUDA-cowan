{
 "cells": [
  {
   "cell_type": "code",
   "execution_count": 139,
   "metadata": {},
   "outputs": [
    {
     "data": {
      "text/plain": [
       "<module 'validLSJ' from 'c:\\\\Users\\\\brewster\\\\Desktop\\\\CUDA Cowan  redone\\\\validLSJ.py'>"
      ]
     },
     "execution_count": 139,
     "metadata": {},
     "output_type": "execute_result"
    }
   ],
   "source": [
    "import importlib\n",
    "\n",
    "import numpy as np\n",
    "\n",
    "import ParseING11 as parse\n",
    "import check_configs as configcheck\n",
    "import validLSJ\n",
    "\n",
    "\n",
    "importlib.reload(parse)\n",
    "importlib.reload(configcheck)\n",
    "importlib.reload(validLSJ)"
   ]
  },
  {
   "cell_type": "code",
   "execution_count": 140,
   "metadata": {},
   "outputs": [
    {
     "name": "stdout",
     "output_type": "stream",
     "text": [
      "ING11_8.txt\n",
      "key, value pair Sn15+ 4p5 ['5675090', '5169172']\n",
      "configarray:  [[4, 1, 5]]\n",
      "Sn15+ 4p5 2 2\n",
      "Sn15+ 4p5 ['5675090', '5169172'] {'Eav': 1, 'Fk_ii': 0, 'zeta': 1, 'Fk_ij': 0, 'Gk_ij': 0}\n",
      "key, value pair Sn15+ sp4d ['111374910', '5180012', '561972', '14965694', '10706284', '13712514', '8698684']\n",
      "configarray:  [[None, 0, 1], [None, 1, 1], [4, 2, 1]]\n",
      "Sn15+ sp4d 7 8\n",
      "Sn15+ sp4d ['111374910', '5180012', '561972', '14965694', '10706284', '13712514', '8698684'] {'Eav': 1, 'Fk_ii': 0, 'zeta': 2, 'Fk_ij': 1, 'Gk_ij': 4}\n",
      "key, value pair Sn15+ spdf ['237801980', '11380271', '5201812', '54692', '10842743', '10535963', '10115783', '6674303', '14982984', '10719094', '7886014', '13728384', '8708974', '9403884', '6619944', '11697084', '7687454', '5544894']\n",
      "configarray:  [[None, 0, 1], [None, 1, 1], [None, 2, 1], [None, 3, 1]]\n",
      "Sn15+ spdf 18 18\n",
      "Sn15+ spdf ['237801980', '11380271', '5201812', '54692', '10842743', '10535963', '10115783', '6674303', '14982984', '10719094', '7886014', '13728384', '8708974', '9403884', '6619944', '11697084', '7687454', '5544894'] {'Eav': 1, 'Fk_ii': 0, 'zeta': 3, 'Fk_ij': 4, 'Gk_ij': 10}\n",
      "key, value pair Sn15+ p44f ['133611910', '11379931', '5192042', '10501923', '9374834', '6597044']\n",
      "configarray:  [[None, 1, 4], [4, 3, 1]]\n",
      "Sn15+ p44f 6 7\n",
      "Sn15+ p44f ['133611910', '11379931', '5192042', '10501923', '9374834', '6597044'] {'Eav': 1, 'Fk_ii': 1, 'zeta': 2, 'Fk_ij': 1, 'Gk_ij': 2}\n",
      "key, value pair Sn15+ p3d2 ['129972650', '11381801', '10457091', '5207542', '562042', '10828393', '13705954', '8694874']\n",
      "configarray:  [[None, 1, 1], [3, 2, 2]]\n",
      "Sn15+ p3d2 8 8\n",
      "Sn15+ p3d2 ['129972650', '11381801', '10457091', '5207542', '562042', '10828393', '13705954', '8694874'] {'Eav': 1, 'Fk_ii': 2, 'zeta': 2, 'Fk_ij': 1, 'Gk_ij': 2}\n",
      "key, value pair Sn15+ p3f2 ['261785530', '11395051', '10127671', '4830551', '5214062', '55052', '10528303', '9392954', '6612114']\n",
      "configarray:  [[None, 1, 1], [3, 3, 2]]\n",
      "Sn15+ p3f2 9 9\n",
      "Sn15+ p3f2 ['261785530', '11395051', '10127671', '4830551', '5214062', '55052', '10528303', '9392954', '6612114'] {'Eav': 1, 'Fk_ii': 3, 'zeta': 2, 'Fk_ij': 1, 'Gk_ij': 2}\n",
      "key, value pair Sn15+ p5d2 ['219172330', '10481541', '7120761', '5190832', '565572', '10838603', '13726544', '8707144']\n",
      "configarray:  [[None, 1, 1], [5, 2, 2]]\n",
      "Sn15+ p5d2 8 8\n",
      "Sn15+ p5d2 ['219172330', '10481541', '7120761', '5190832', '565572', '10838603', '13726544', '8707144'] {'Eav': 1, 'Fk_ii': 2, 'zeta': 2, 'Fk_ij': 1, 'Gk_ij': 2}\n",
      "key, value pair Sn15+ p5f2 ['351786770', '10177381', '6637151', '4855371', '5196222', '55862', '10552573', '9419034', '6630544']\n",
      "configarray:  [[None, 1, 1], [5, 3, 2]]\n",
      "Sn15+ p5f2 9 9\n",
      "Sn15+ p5f2 ['351786770', '10177381', '6637151', '4855371', '5196222', '55862', '10552573', '9419034', '6630544'] {'Eav': 1, 'Fk_ii': 3, 'zeta': 2, 'Fk_ij': 1, 'Gk_ij': 2}\n",
      "key, value pair Sn15+ p6f ['227347120', '54702']\n",
      "configarray:  [[None, 1, 1], [6, 3, 1]]\n",
      "Sn15+ p6f 2 6\n",
      "Sn15+ p6f ['227347120', '54702'] {'Eav': 1, 'Fk_ii': 0, 'zeta': 2, 'Fk_ij': 1, 'Gk_ij': 2}\n",
      "ING11_8.txt [True, False, True, False, True, True, True, True, False] \n",
      "\n",
      "\n"
     ]
    }
   ],
   "source": [
    "# aligning the scraped data with predicitions of amounts of F, G, zeta etc \n",
    "def check(filename):\n",
    "    parseddata = parse.main(filename)\n",
    "\n",
    "    alignment = []\n",
    "    # values for our \n",
    "    for key, value in parseddata[1].items():\n",
    "        print(\"key, value pair\",key, value )\n",
    "        configdict = configcheck.main(key.split()[1])\n",
    "        print(key, len(value), sum(configdict.values())) #Number of output values scraped, number of output values predicted\n",
    "        print(key, value, configdict)\n",
    "        alignment.append(len(value) == sum(configdict.values())) # list of bools for checked configurations\n",
    "\n",
    "    return alignment\n",
    "\n",
    "for i in range(8,9):\n",
    "    filename = f\"ING11_{i}.txt\"\n",
    "    print(filename)\n",
    "    alignment = check(filename)\n",
    "    print(filename, alignment, \"\\n\\n\")\n"
   ]
  },
  {
   "cell_type": "markdown",
   "metadata": {},
   "source": [
    "Lets continue with cases ING11_3, 5, 6, 7 since they work properly. Now that we have "
   ]
  },
  {
   "cell_type": "code",
   "execution_count": null,
   "metadata": {},
   "outputs": [],
   "source": [
    "from sympy.physics.wigner import wigner_3j, wigner_6j\n",
    "# Example calculations\n",
    "#print(wigner_3j(2, 2, 4, 0, 0, 0))  # Example Wigner 3j symbol\n",
    "#print(wigner_6j(1, 2, 3, 4, 5, 6))  # Example Wigner 6j symbol\n",
    "\n",
    "def fk(l1, l2, k):\n",
    "    if k % 2 != 0:\n",
    "        return 0\n",
    "    elif k > min(2*l1,2*l2):\n",
    "        return 0\n",
    "    L = l1 + l2\n",
    "    return (-1)**L*(2*l1 +1)*(2*l2 +1)*wigner_3j(l1, k ,l1, 0, 0, 0)*wigner_3j(l2, k ,l2, 0, 0, 0)*wigner_6j(l2, l1 ,L, l2, l1, k)\n",
    "\n",
    "def gk(l1, l2, k, S):\n",
    "    if k < abs(l1 - l2):\n",
    "        return 0\n",
    "    if k > l1 + l2:\n",
    "        return 0\n",
    "    L = l1 + l2\n",
    "    return (-1)**S**(2*l1 +1)*(2*l2 +1)*wigner_3j(l1, k ,l2, 0, 0, 0)**2 *wigner_6j(l1, l2 ,L, l1, l2, k)\n",
    "\n",
    "\n",
    "def parse_parameters(values, count_dict):\n",
    "    \"\"\"Split the flat value list into chunks based on count_dict.\"\"\"\n",
    "    parsed = {}\n",
    "    idx = 0\n",
    "    for key, count in count_dict.items():\n",
    "        parsed[key] = [int(values[idx + i]) for i in range(count)]\n",
    "        idx += count\n",
    "    return parsed\n",
    "\n",
    "\n",
    "#def valid_k_values_fk(l1, l2):\n",
    "#    return list(range(0, 2 * min(2 * l1, 2 * l2) + 1, 2))\n",
    "\n",
    "#def valid_k_values_gk(l1, l2):\n",
    "#    start = abs(l1 - l2)\n",
    "#    return list(range(start, l1 + l2 + 1, 2))"
   ]
  },
  {
   "cell_type": "code",
   "execution_count": null,
   "metadata": {},
   "outputs": [
    {
     "name": "stdout",
     "output_type": "stream",
     "text": [
      "{'Sn8+ 4p64d6': '-1350649.787', 'Sn8+ 4p54d7': '-1350045.609', 'Sn8+ 4d54f1': '-1350071.830'}\n",
      "{'Sn8+ 4p64d6': ['5675090', '10656991', '7141501', '398102'], 'Sn8+ 4p54d7': ['66092880', '10673901', '7152881', '4277622', '400702', '11299903', '14357254', '8974454'], 'Sn8+ 4d54f1': ['63470830', '10737361', '7200011', '405932', '20452', '8566803', '5477733', '10242614', '6365564', '4486014']}\n",
      "{'4p54d7 - 4d54f1': ['117.77515', '72.43685', '0.00005', '0.00005']}\n",
      "{'Sn8+ 4p64d6 Sn8+ 4p54d7': ['1.24275(', '4P//R1//', '4D)-0.999hr', '-96'], 'Sn8+ 4p64d6 Sn8+ 4d54f1': ['1.71273(', '4D//R1//', '4F)-0.991hr', '-88']}\n"
     ]
    }
   ],
   "source": [
    "# Example usage format\n",
    "parseddata = parse.main(\"ING11_10.txt\")\n",
    "for val in parseddata:\n",
    "    print(val)\n",
    "\n"
   ]
  },
  {
   "cell_type": "code",
   "execution_count": null,
   "metadata": {},
   "outputs": [
    {
     "name": "stdout",
     "output_type": "stream",
     "text": [
      "{'4p5': [(0.5, 1)], '4d3': [(0.5, 1), (0.5, 2), (0.5, 3), (0.5, 4), (0.5, 5), (1.5, 1), (1.5, 3)]}\n",
      "{(2.0, 4), (1.0, 2), (1.5, 4), (1.0, 4), (2.0, 3), (1.5, 3), (2.0, 2), (1.0, 3), (1.5, 2)}\n"
     ]
    }
   ],
   "source": [
    "combinedict = validLSJ.PossibleLSJ('4p54d3')\n",
    "print(combinedict)\n",
    "tpl = validLSJ.total_possible_LS(combinedict)\n",
    "print(tpl)"
   ]
  },
  {
   "attachments": {
    "image.png": {
     "image/png": "[encoded data removed]"
    }
   },
   "cell_type": "markdown",
   "metadata": {},
   "source": [
    "looking for type \n",
    "\n",
    "(*sheil 4p^6 4d^m- 4p^6 4d^(m-1) 4f + 4p^5 4d^(m+1)*)\n",
    "\n",
    "(*sheil: 2^m 1^6 3^0 - 2^(m+1) 1^5 3^0 + 2^(m-1) 1^6 3^1*)\n",
    "\n",
    "![image.png](attachment:image.png)"
   ]
  },
  {
   "cell_type": "code",
   "execution_count": null,
   "metadata": {},
   "outputs": [],
   "source": []
  },
  {
   "cell_type": "code",
   "execution_count": null,
   "metadata": {},
   "outputs": [],
   "source": [
    "#identify the RK and import them\n",
    "\n",
    "def rdirect(l1,l2,l3,l4):\n",
    "    return 0\n",
    "def rexchange(l1,l2,l3,l4):\n",
    "    return 1\n",
    "\n",
    "for m in [1,8,28,56,70]:\n",
    "    #call ing10 etc\n",
    "\n",
    "\n",
    "\n",
    "    vi = m * (-12/7 * (rdirect(3,2,0,1,3)) + 8 * rexchange(0,2,0,3,1))\n",
    "    "
   ]
  }
 ],
 "metadata": {
  "kernelspec": {
   "display_name": "base",
   "language": "python",
   "name": "python3"
  },
  "language_info": {
   "codemirror_mode": {
    "name": "ipython",
    "version": 3
   },
   "file_extension": ".py",
   "mimetype": "text/x-python",
   "name": "python",
   "nbconvert_exporter": "python",
   "pygments_lexer": "ipython3",
   "version": "3.11.4"
  }
 },
 "nbformat": 4,
 "nbformat_minor": 2
}
