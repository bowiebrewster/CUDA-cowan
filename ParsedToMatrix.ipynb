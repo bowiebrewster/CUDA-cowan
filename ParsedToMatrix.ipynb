{
 "cells": [
  {
   "cell_type": "code",
   "execution_count": 1,
   "metadata": {},
   "outputs": [
    {
     "data": {
      "text/plain": [
       "<module 'ValidLSJ' from 'c:\\\\Users\\\\brewster\\\\Desktop\\\\CowanFrontend\\\\ValidLSJ.py'>"
      ]
     },
     "execution_count": 1,
     "metadata": {},
     "output_type": "execute_result"
    }
   ],
   "source": [
    "import importlib\n",
    "import numpy as np\n",
    "\n",
    "# files part of this library\n",
    "import ParseING11 \n",
    "import CheckConfigs \n",
    "import ValidLSJ\n",
    "import RunCowanRCN\n",
    "\n",
    "importlib.reload(ParseING11)\n",
    "importlib.reload(RunCowanRCN)\n",
    "importlib.reload(CheckConfigs)\n",
    "importlib.reload(ValidLSJ)"
   ]
  },
  {
   "cell_type": "markdown",
   "metadata": {},
   "source": [
    "We start with the input configurations that will go into cowan IN36 files which we define as a function of m. As many lines as necesarry can be defined."
   ]
  },
  {
   "cell_type": "code",
   "execution_count": null,
   "metadata": {},
   "outputs": [
    {
     "name": "stdout",
     "output_type": "stream",
     "text": [
      "Running port.sh...\n",
      "Running RCN.BAT...\n",
      "RCN.BAT completed successfully.\n",
      "Running RCN2.BAT...\n",
      "RCN2.BAT completed successfully.\n",
      "\n",
      "port.sh completed successfully.\n",
      "Deleted existing file IN36.txt.\n",
      "Deleted existing file ING11.txt.\n",
      "Deleted existing file OUT2.txt.\n",
      "Deleted existing file OUT36.txt.\n",
      "Running port.sh...\n",
      "Running RCN.BAT...\n",
      "RCN.BAT completed successfully.\n",
      "Running RCN2.BAT...\n",
      "RCN2.BAT completed successfully.\n",
      "\n",
      "port.sh completed successfully.\n",
      "Deleted existing file IN36.txt.\n",
      "Deleted existing file ING11.txt.\n",
      "Deleted existing file OUT2.txt.\n",
      "Deleted existing file OUT36.txt.\n",
      "Running port.sh...\n",
      "Running RCN.BAT...\n",
      "RCN.BAT completed successfully.\n",
      "Running RCN2.BAT...\n",
      "RCN2.BAT completed successfully.\n",
      "\n",
      "port.sh completed successfully.\n",
      "Deleted existing file IN36.txt.\n",
      "Deleted existing file ING11.txt.\n",
      "Deleted existing file OUT2.txt.\n",
      "Deleted existing file OUT36.txt.\n",
      "Running port.sh...\n",
      "Running RCN.BAT...\n",
      "RCN.BAT completed successfully.\n",
      "Running RCN2.BAT...\n",
      "RCN2.BAT completed successfully.\n",
      "\n",
      "port.sh completed successfully.\n",
      "Deleted existing file IN36.txt.\n",
      "Deleted existing file ING11.txt.\n",
      "Deleted existing file OUT2.txt.\n",
      "Deleted existing file OUT36.txt.\n",
      "Running port.sh...\n",
      "Running RCN.BAT...\n",
      "RCN.BAT completed successfully.\n",
      "Running RCN2.BAT...\n",
      "RCN2.BAT completed successfully.\n",
      "\n",
      "port.sh completed successfully.\n",
      "Deleted existing file IN36.txt.\n",
      "Deleted existing file ING11.txt.\n",
      "Deleted existing file OUT2.txt.\n",
      "Deleted existing file OUT36.txt.\n",
      "Running port.sh...\n",
      "Running RCN.BAT...\n",
      "RCN.BAT completed successfully.\n",
      "Running RCN2.BAT...\n",
      "RCN2.BAT completed successfully.\n",
      "\n",
      "port.sh completed successfully.\n",
      "Deleted existing file IN36.txt.\n",
      "Deleted existing file ING11.txt.\n",
      "Deleted existing file OUT2.txt.\n",
      "Deleted existing file OUT36.txt.\n",
      "Running port.sh...\n",
      "Running RCN.BAT...\n",
      "RCN.BAT completed successfully.\n",
      "Running RCN2.BAT...\n",
      "RCN2.BAT completed successfully.\n",
      "\n",
      "port.sh completed successfully.\n",
      "Deleted existing file IN36.txt.\n",
      "Deleted existing file ING11.txt.\n",
      "Deleted existing file OUT2.txt.\n",
      "Deleted existing file OUT36.txt.\n",
      "Running port.sh...\n",
      "Running RCN.BAT...\n",
      "RCN.BAT completed successfully.\n",
      "Running RCN2.BAT...\n",
      "RCN2.BAT completed successfully.\n",
      "\n",
      "port.sh completed successfully.\n",
      "Deleted existing file IN36.txt.\n",
      "Deleted existing file ING11.txt.\n",
      "Deleted existing file OUT2.txt.\n",
      "Deleted existing file OUT36.txt.\n"
     ]
    }
   ],
   "source": [
    "def line1(m):\n",
    "    return [f\"   50\",f\"{m+6}Sn{m+5}+\", f\"4p64d{9-m}\", f\"3d10 4s2 4p6 4d{9-m}\"]\n",
    "def line2(m):\n",
    "    return [f\"   50\",f\"{m+6}Sn{m+5}+\", f\"4p54d{10-m}\", f\"3d10 4s2 4p5 4d{10-m}\"]\n",
    "def line3(m):\n",
    "    return [f\"   50\",f\"{m+6}Sn{m+5}+\", f\"4p64d{8-m}4f1\", f\"3d10 4s2 4p6 4d{8-m} 4f1\"]\n",
    "\n",
    "lines = [line1, line2, line3]\n",
    "\n",
    "for m in range(0, 8): # m = 8 has an exception since 8 - m = 0\n",
    "    # write the in 36 file\n",
    "    mainstr = RunCowanRCN.write36(lines, m)\n",
    "    filename = f\"C:\\\\Users\\\\brewster\\\\Desktop\\\\CowanFrontend\\\\InputOutputCowan\\\\IN36\"\n",
    "    with open(filename, \"w\") as f:\n",
    "        f.write(mainstr)\n",
    "\n",
    "    # run cowan with in36 file and already existent In2 file\n",
    "    RunCowanRCN.run_shell_script()\n",
    "\n",
    "    #rename the files to txt files with index m \n",
    "    RunCowanRCN.totxt(m,\"IN36\")\n",
    "    RunCowanRCN.totxt(m,\"ING11\")\n",
    "    RunCowanRCN.totxt(m,\"OUT2\")\n",
    "    RunCowanRCN.totxt(m,\"OUT36\")"
   ]
  },
  {
   "cell_type": "markdown",
   "metadata": {},
   "source": [
    "This should have produced all the IN36 ING11 OUT2 and OUT36 files with index m inside the InputOutputCowan folder. We can now scrape these files for Rk integrals and wavefunctions to use in the bauche equation. "
   ]
  },
  {
   "cell_type": "code",
   "execution_count": 8,
   "metadata": {},
   "outputs": [
    {
     "name": "stdout",
     "output_type": "stream",
     "text": [
      "\n",
      "InputOutputCowan\\ING11_0.txt\n",
      "{'Sn5+ 4p64d9': '-1353475.442', 'Sn5+ 4p64d84f1': '-1352998.505'}\n",
      "{'Sn5+ 4p64d9': ['5675090', '336952'], 'Sn5+ 4p54d10': ['65459050', '3978752'], 'Sn5+ 4p64d84f1': ['53368790', '9984861', '6640871', '350652', '6352', '4944183', '2902693', '5363734', '3202634', '2221164']}\n",
      "{'4p54d10 - 4p64d84': ['80.17835', '47.13865', '0.00005', '0.00005']}\n",
      "{'Sn5+ 4p64d9 Sn5+ 4p54d10': ['1.29250(', '4P//R1//', '4D)-0.999hr', '-95'], 'Sn5+ 4p64d9 Sn5+ 4p64d84f1': ['1.67100(', '4D//R1//', '4F)-0.996hr', '-72']}\n",
      "\n",
      "\n",
      "\n",
      "\n",
      "Sn5+ 4p64d9\n",
      "values expected, vs values recieved: 2 2\n",
      "{'Eav': 1, 'Fk_ii': 0, 'zeta': 1, 'Fk_ij': 0, 'Gk_ij': 0} ['5675090', '336952']\n",
      "Sn5+ 4p54d10\n",
      "values expected, vs values recieved: 2 2\n",
      "{'Eav': 1, 'Fk_ii': 0, 'zeta': 1, 'Fk_ij': 0, 'Gk_ij': 0} ['65459050', '3978752']\n",
      "Sn5+ 4p64d84f1\n",
      "values expected, vs values recieved: 10 10\n",
      "{'Eav': 1, 'Fk_ii': 2, 'zeta': 2, 'Fk_ij': 2, 'Gk_ij': 3} ['53368790', '9984861', '6640871', '350652', '6352', '4944183', '2902693', '5363734', '3202634', '2221164']\n"
     ]
    }
   ],
   "source": [
    "# aligning the scraped data with predicitions of amounts of F, G, zeta etc \n",
    "def check(filename):\n",
    "    parseddata = ParseING11.main(filename) # parsing data from ING11 files \n",
    "    alignment = []\n",
    "    \n",
    "    for val in parseddata:\n",
    "        print(val)\n",
    "\n",
    "    print(\"\\n\\n\\n\")\n",
    "    # values for our \n",
    "    for key, value in parseddata[1].items():\n",
    "        \n",
    "        print(key)\n",
    "        configdict = CheckConfigs.main(key.split()[1]) # our algorithm predicts the amount of Fk Gk zeta ai there should be to help identify the parsed output \n",
    "        print(\"values expected, vs values recieved:\", sum(configdict.values()) ,len(value), ) #Number of output values scraped, number of output values predicted\n",
    "        print(configdict, value)\n",
    "        alignment.append(len(value) == sum(configdict.values())) # list of bools for checked configurations\n",
    "\n",
    "    return alignment\n",
    "\n",
    "for i in range(1):\n",
    "    filename = f\"InputOutputCowan\\\\ING11_{i}.txt\"\n",
    "    print(f\"\\n{filename}\")\n",
    "    alignment = check(filename)\n",
    "\n"
   ]
  },
  {
   "cell_type": "code",
   "execution_count": null,
   "metadata": {},
   "outputs": [
    {
     "name": "stdout",
     "output_type": "stream",
     "text": [
      "1 1\n"
     ]
    }
   ],
   "source": []
  },
  {
   "cell_type": "code",
   "execution_count": null,
   "metadata": {},
   "outputs": [],
   "source": [
    "# deprecated\n",
    "\"\"\"\"\n",
    "\n",
    "from sympy.physics.wigner import wigner_3j, wigner_6j\n",
    "# Example calculations\n",
    "#print(wigner_3j(2, 2, 4, 0, 0, 0))  # Example Wigner 3j symbol\n",
    "#print(wigner_6j(1, 2, 3, 4, 5, 6))  # Example Wigner 6j symbol\n",
    "\n",
    "def fk(l1, l2, k):\n",
    "    if k % 2 != 0:\n",
    "        return 0\n",
    "    elif k > min(2*l1,2*l2):\n",
    "        return 0\n",
    "    L = l1 + l2\n",
    "    return (-1)**L*(2*l1 +1)*(2*l2 +1)*wigner_3j(l1, k ,l1, 0, 0, 0)*wigner_3j(l2, k ,l2, 0, 0, 0)*wigner_6j(l2, l1 ,L, l2, l1, k)\n",
    "\n",
    "def gk(l1, l2, k, S):\n",
    "    if k < abs(l1 - l2):\n",
    "        return 0\n",
    "    if k > l1 + l2:\n",
    "        return 0\n",
    "    L = l1 + l2\n",
    "    return (-1)**S**(2*l1 +1)*(2*l2 +1)*wigner_3j(l1, k ,l2, 0, 0, 0)**2 *wigner_6j(l1, l2 ,L, l1, l2, k)\n",
    "\n",
    "\n",
    "def parse_parameters(values, count_dict):\n",
    "    #Split the flat value list into chunks based on count_dict\n",
    "    parsed = {}\n",
    "    idx = 0\n",
    "    for key, count in count_dict.items():\n",
    "        parsed[key] = [int(values[idx + i]) for i in range(count)]\n",
    "        idx += count\n",
    "    return parsed\n",
    "\n",
    "\n",
    "#def valid_k_values_fk(l1, l2):\n",
    "#    return list(range(0, 2 * min(2 * l1, 2 * l2) + 1, 2))\n",
    "\n",
    "#def valid_k_values_gk(l1, l2):\n",
    "#    start = abs(l1 - l2)\n",
    "#    return list(range(start, l1 + l2 + 1, 2))\n",
    "\"\"\""
   ]
  },
  {
   "cell_type": "code",
   "execution_count": null,
   "metadata": {},
   "outputs": [
    {
     "name": "stdout",
     "output_type": "stream",
     "text": [
      "{'4p5': [(0.5, 1)], '4d3': [(0.5, 1), (0.5, 2), (0.5, 3), (0.5, 4), (0.5, 5), (1.5, 1), (1.5, 3)]}\n",
      "Total combined possible LS pairs:  {(2.0, 4), (1.0, 2), (1.5, 4), (1.0, 4), (2.0, 3), (1.5, 3), (2.0, 2), (1.0, 3), (1.5, 2)}\n"
     ]
    }
   ],
   "source": [
    "# The file permitted_ls_terms is a lookup table for the purpose of preserving parity in angular momentum calculations \n",
    "#TODO incorporate complete algorithm without lookup table\n",
    "\n",
    "combinedict = validLSJ.PossibleLSJ('4p54d3')\n",
    "print(combinedict)\n",
    "tpl = validLSJ.total_possible_LS(combinedict)\n",
    "print('Total combined possible LS pairs: ',tpl)"
   ]
  },
  {
   "attachments": {
    "image-2.png": {
     "image/png": "[encoded data removed]"
    },
    "image-3.png": {
     "image/png": "[encoded data removed]"
    },
    "image.png": {
     "image/png": "[encoded data removed]"
    }
   },
   "cell_type": "markdown",
   "metadata": {},
   "source": [
    "![image.png](attachment:image.png)\n",
    "\n",
    "Which is captured by\n",
    "\n",
    "![image-2.png](attachment:image-2.png)\n",
    "\n",
    "\n",
    "For a specific m we group the k = 1 integrals, and the k = 3 integrals. And we still need to account for the P factors at the end \n",
    "\n",
    "![image-3.png](attachment:image-3.png)"
   ]
  },
  {
   "cell_type": "code",
   "execution_count": null,
   "metadata": {},
   "outputs": [
    {
     "name": "stdout",
     "output_type": "stream",
     "text": [
      "\n",
      "ING11_18.txt\n",
      "Sn13+ 4p64d1\n",
      "values expected, vs values recieved: 2 2\n",
      "{'Eav': 1, 'Fk_ii': 0, 'zeta': 1, 'Fk_ij': 0, 'Gk_ij': 0} ['5675090', '509612']\n",
      "Sn13+ 4p54d2\n",
      "values expected, vs values recieved: 8 8\n",
      "{'Eav': 1, 'Fk_ii': 2, 'zeta': 2, 'Fk_ij': 1, 'Gk_ij': 2} ['66121100', '11867751', '8038331', '4892892', '511632', '12348863', '15656824', '9897454']\n",
      "Sn13+ 4p64f1\n",
      "values expected, vs values recieved: 2 2\n",
      "{'Eav': 1, 'Fk_ii': 0, 'zeta': 1, 'Fk_ij': 0, 'Gk_ij': 0} ['72112160', '43382']\n"
     ]
    }
   ],
   "source": [
    "# this leaves us with (8 choose (m-1)) *( -49 R^1() + 6R^3()) * P_l1,l4 P_l2, l3\n",
    "# where R^1 and R^3 are the 2 values produces in the m-th ing file and  P_l1 l4 P_l2, l3 are calculated as follows.\n",
    "\n"
   ]
  },
  {
   "cell_type": "code",
   "execution_count": null,
   "metadata": {},
   "outputs": [],
   "source": [
    "#identify the RK and import them\n",
    "\n",
    "def rdirect(l1,l2,l3,l4):\n",
    "    return 0\n",
    "def rexchange(l1,l2,l3,l4):\n",
    "    return 1\n",
    "\n",
    "for m in [1,8,28,56,70]:\n",
    "    #call ing10 etc\n",
    "\n",
    "\n",
    "\n",
    "    vi = m * (-12/7 * (rdirect(3,2,0,1,3)) + 8 * rexchange(0,2,0,3,1))\n",
    "    "
   ]
  }
 ],
 "metadata": {
  "kernelspec": {
   "display_name": "base",
   "language": "python",
   "name": "python3"
  },
  "language_info": {
   "codemirror_mode": {
    "name": "ipython",
    "version": 3
   },
   "file_extension": ".py",
   "mimetype": "text/x-python",
   "name": "python",
   "nbconvert_exporter": "python",
   "pygments_lexer": "ipython3",
   "version": "3.11.4"
  }
 },
 "nbformat": 4,
 "nbformat_minor": 2
}
